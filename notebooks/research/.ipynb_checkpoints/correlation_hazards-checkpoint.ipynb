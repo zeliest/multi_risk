{
 "cells": [
  {
   "cell_type": "code",
   "execution_count": 50,
   "id": "016201a0",
   "metadata": {},
   "outputs": [
    {
     "name": "stdout",
     "output_type": "stream",
     "text": [
      "https://climada.ethz.ch/data-api/v1/dataset\tclimate_scenario=historical\tcountry_iso3alpha=MEX\tdata_type=tropical_cyclone\tlimit=100000\tname=None\tstatus=active\tversion=None\n"
     ]
    }
   ],
   "source": [
    "from climada.util.api_client import Client\n",
    "client = Client()\n",
    "tc = client.get_hazard('tropical_cyclone', properties={'country_iso3alpha': 'MEX', 'climate_scenario':'historical'})\n",
    "\n"
   ]
  },
  {
   "cell_type": "code",
   "execution_count": 65,
   "id": "8e09d188",
   "metadata": {},
   "outputs": [
    {
     "name": "stdout",
     "output_type": "stream",
     "text": [
      "https://climada.ethz.ch/data-api/v1/dataset\tcountry_iso3alpha=DEU\tdata_type=storm_europe\tlimit=100000\tname=None\tstatus=active\tversion=None\n"
     ]
    }
   ],
   "source": [
    "st = client.get_hazard('storm_europe', properties={'country_iso3alpha': 'DEU'})"
   ]
  },
  {
   "cell_type": "code",
   "execution_count": null,
   "id": "4bd6cc44",
   "metadata": {},
   "outputs": [],
   "source": []
  },
  {
   "cell_type": "code",
   "execution_count": 51,
   "id": "3d73ae9c",
   "metadata": {},
   "outputs": [],
   "source": [
    "tc = tc.select(orig=True)"
   ]
  },
  {
   "cell_type": "code",
   "execution_count": 60,
   "id": "e1ee1282",
   "metadata": {},
   "outputs": [
    {
     "name": "stdout",
     "output_type": "stream",
     "text": [
      "https://climada.ethz.ch/data-api/v1/dataset\tclimate_scenario=historical\tcountry_iso3alpha=MEX\tdata_type=river_flood\tlimit=100000\tname=None\tstatus=active\tversion=None\n"
     ]
    }
   ],
   "source": [
    "rf = client.get_hazard('river_flood', properties={'country_iso3alpha': 'MEX', 'climate_scenario':'historical'})\n",
    "\n"
   ]
  },
  {
   "cell_type": "code",
   "execution_count": 38,
   "id": "00f716e6",
   "metadata": {},
   "outputs": [
    {
     "name": "stdout",
     "output_type": "stream",
     "text": [
      "https://climada.ethz.ch/data-api/v1/dataset\tclimate_scenario=historical\tcountry_iso3alpha=MEX\tdata_type=wildfire\tlimit=100000\tname=None\tstatus=active\tversion=None\n"
     ]
    }
   ],
   "source": [
    "wf = client.get_hazard('wildfire', properties={'country_iso3alpha': 'MEX', 'climate_scenario':'historical'})\n",
    "\n"
   ]
  },
  {
   "cell_type": "code",
   "execution_count": 42,
   "id": "0b55e01f",
   "metadata": {},
   "outputs": [
    {
     "data": {
      "text/plain": [
       "[datetime.datetime(2001, 1, 1, 0, 0),\n",
       " datetime.datetime(2002, 1, 1, 0, 0),\n",
       " datetime.datetime(2003, 1, 1, 0, 0),\n",
       " datetime.datetime(2004, 1, 1, 0, 0),\n",
       " datetime.datetime(2005, 1, 1, 0, 0),\n",
       " datetime.datetime(2006, 1, 1, 0, 0),\n",
       " datetime.datetime(2007, 1, 1, 0, 0),\n",
       " datetime.datetime(2008, 1, 1, 0, 0),\n",
       " datetime.datetime(2009, 1, 1, 0, 0),\n",
       " datetime.datetime(2010, 1, 1, 0, 0),\n",
       " datetime.datetime(2011, 1, 1, 0, 0),\n",
       " datetime.datetime(2012, 1, 1, 0, 0),\n",
       " datetime.datetime(2013, 1, 1, 0, 0),\n",
       " datetime.datetime(2014, 1, 1, 0, 0),\n",
       " datetime.datetime(2015, 1, 1, 0, 0),\n",
       " datetime.datetime(2016, 1, 1, 0, 0),\n",
       " datetime.datetime(2017, 1, 1, 0, 0),\n",
       " datetime.datetime(2018, 1, 1, 0, 0),\n",
       " datetime.datetime(2019, 1, 1, 0, 0),\n",
       " datetime.datetime(2020, 1, 1, 0, 0)]"
      ]
     },
     "execution_count": 42,
     "metadata": {},
     "output_type": "execute_result"
    }
   ],
   "source": [
    "[datetime.fromordinal(date) for date in wf.date]"
   ]
  },
  {
   "cell_type": "code",
   "execution_count": 61,
   "id": "96adb449",
   "metadata": {},
   "outputs": [],
   "source": [
    "rf = rf.select(event_names=[event for event in rf.event_name if \"matsiro\" in event and \"wfdei\" in event])"
   ]
  },
  {
   "cell_type": "code",
   "execution_count": 52,
   "id": "63315194",
   "metadata": {},
   "outputs": [],
   "source": [
    "tc_1980_2000 = tc.select(date=(\"1980-01-01\",\"2000-01-01\"))"
   ]
  },
  {
   "cell_type": "code",
   "execution_count": 53,
   "id": "f2ff9a62",
   "metadata": {},
   "outputs": [],
   "source": [
    "tc_2000_2020 = tc.select(date=(\"2000-01-01\",\"2020-01-01\"))"
   ]
  },
  {
   "cell_type": "code",
   "execution_count": 45,
   "id": "650d80f8",
   "metadata": {},
   "outputs": [],
   "source": [
    "def yearly_intensity_score(hazard):\n",
    "    mat = hazard.intensity\n",
    "    years = [datetime.fromordinal(date).year for date in hazard.date]\n",
    "    if len(np.unique(years)) == len(hazard.event_id):\n",
    "        return mat\n",
    "    mask =[np.ma.make_mask(years == year).astype(int)\n",
    "           for year in np.unique(years)]\n",
    "    mask_matrix = sp.sparse.csr_matrix(mask)\n",
    "    sum_mat = mask_matrix.dot(mat)\n",
    "    return sum_mat\n",
    "\n",
    "\n",
    "def corr_btw_hazards(hazard_dict, temporal, spatial):\n",
    "    \"\"\"\n",
    "    Parameters\n",
    "    ----------\n",
    "    hazard_dict : dict of hazards\n",
    "    temporal : bool, rather to consider the temporal dimension\n",
    "    spatial : bool, rather to consider the spatial dimension\n",
    "\n",
    "    Returns\n",
    "    -------\n",
    "    corr_df : pd.DataFrame\n",
    "    \"\"\"\n",
    "    intensity_score_dict = {hazard: yearly_intensity_score(hazard_dict[hazard]) for hazard in hazard_dict}\n",
    "    if temporal is True and spatial is False:\n",
    "        df = pd.DataFrame.from_dict({hazard: np.squeeze(np.asarray(intensity_score_dict[hazard].sum(axis=0))) for hazard in intensity_score_dict})\n",
    "    if spatial is True and temporal is False:\n",
    "        df = pd.DataFrame.from_dict({hazard: np.squeeze(np.asarray(intensity_score_dict[hazard].sum(axis=1))) for hazard in intensity_score_dict})\n",
    "    if spatial is True and temporal is True:\n",
    "        df = pd.DataFrame.from_dict({hazard: np.array(intensity_score_dict[hazard].todense().flatten())[0]\n",
    "                                     for hazard in intensity_score_dict})\n",
    "    \n",
    "    return df.corr()\n"
   ]
  },
  {
   "cell_type": "code",
   "execution_count": 62,
   "id": "5c588c56",
   "metadata": {},
   "outputs": [
    {
     "data": {
      "text/html": [
       "<div>\n",
       "<style scoped>\n",
       "    .dataframe tbody tr th:only-of-type {\n",
       "        vertical-align: middle;\n",
       "    }\n",
       "\n",
       "    .dataframe tbody tr th {\n",
       "        vertical-align: top;\n",
       "    }\n",
       "\n",
       "    .dataframe thead th {\n",
       "        text-align: right;\n",
       "    }\n",
       "</style>\n",
       "<table border=\"1\" class=\"dataframe\">\n",
       "  <thead>\n",
       "    <tr style=\"text-align: right;\">\n",
       "      <th></th>\n",
       "      <th>TC</th>\n",
       "      <th>RF</th>\n",
       "    </tr>\n",
       "  </thead>\n",
       "  <tbody>\n",
       "    <tr>\n",
       "      <th>TC</th>\n",
       "      <td>1.000000</td>\n",
       "      <td>0.039743</td>\n",
       "    </tr>\n",
       "    <tr>\n",
       "      <th>RF</th>\n",
       "      <td>0.039743</td>\n",
       "      <td>1.000000</td>\n",
       "    </tr>\n",
       "  </tbody>\n",
       "</table>\n",
       "</div>"
      ],
      "text/plain": [
       "          TC        RF\n",
       "TC  1.000000  0.039743\n",
       "RF  0.039743  1.000000"
      ]
     },
     "execution_count": 62,
     "metadata": {},
     "output_type": "execute_result"
    }
   ],
   "source": [
    "corr_btw_hazards({'TC':tc_1980_2000,'RF':rf}, temporal=True, spatial=False)"
   ]
  },
  {
   "cell_type": "code",
   "execution_count": 64,
   "id": "3b81db75",
   "metadata": {},
   "outputs": [
    {
     "data": {
      "text/html": [
       "<div>\n",
       "<style scoped>\n",
       "    .dataframe tbody tr th:only-of-type {\n",
       "        vertical-align: middle;\n",
       "    }\n",
       "\n",
       "    .dataframe tbody tr th {\n",
       "        vertical-align: top;\n",
       "    }\n",
       "\n",
       "    .dataframe thead th {\n",
       "        text-align: right;\n",
       "    }\n",
       "</style>\n",
       "<table border=\"1\" class=\"dataframe\">\n",
       "  <thead>\n",
       "    <tr style=\"text-align: right;\">\n",
       "      <th></th>\n",
       "      <th>TC</th>\n",
       "      <th>WF</th>\n",
       "    </tr>\n",
       "  </thead>\n",
       "  <tbody>\n",
       "    <tr>\n",
       "      <th>TC</th>\n",
       "      <td>1.000000</td>\n",
       "      <td>0.065908</td>\n",
       "    </tr>\n",
       "    <tr>\n",
       "      <th>WF</th>\n",
       "      <td>0.065908</td>\n",
       "      <td>1.000000</td>\n",
       "    </tr>\n",
       "  </tbody>\n",
       "</table>\n",
       "</div>"
      ],
      "text/plain": [
       "          TC        WF\n",
       "TC  1.000000  0.065908\n",
       "WF  0.065908  1.000000"
      ]
     },
     "execution_count": 64,
     "metadata": {},
     "output_type": "execute_result"
    }
   ],
   "source": [
    "corr_btw_hazards({'TC':tc_2000_2020,'WF':wf}, temporal=True, spatial=True)"
   ]
  }
 ],
 "metadata": {
  "kernelspec": {
   "display_name": "Python 3 (ipykernel)",
   "language": "python",
   "name": "python3"
  },
  "language_info": {
   "codemirror_mode": {
    "name": "ipython",
    "version": 3
   },
   "file_extension": ".py",
   "mimetype": "text/x-python",
   "name": "python",
   "nbconvert_exporter": "python",
   "pygments_lexer": "ipython3",
   "version": "3.8.13"
  }
 },
 "nbformat": 4,
 "nbformat_minor": 5
}
