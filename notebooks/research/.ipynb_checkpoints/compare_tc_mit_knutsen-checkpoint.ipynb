{
 "cells": [
  {
   "cell_type": "code",
   "execution_count": 17,
   "id": "d6f70d86",
   "metadata": {},
   "outputs": [
    {
     "name": "stdout",
     "output_type": "stream",
     "text": [
      "https://climada.ethz.ch/data-api/v1/dataset\tclimate_scenario=historical\tdata_type=tropical_cyclone\tlimit=100000\tname=None\tspatial_coverage=global\tstatus=active\tversion=None\n"
     ]
    }
   ],
   "source": [
    "tc_knutsen = client.get_hazard('tropical_cyclone', properties={'spatial_coverage':'global', 'climate_scenario':'historical'},)\n",
    "\n"
   ]
  },
  {
   "cell_type": "code",
   "execution_count": 22,
   "id": "80ff2417",
   "metadata": {},
   "outputs": [
    {
     "name": "stdout",
     "output_type": "stream",
     "text": [
      "https://climada.ethz.ch/data-api/v1/dataset\tclimate_scenario=rcp60\tdata_type=tropical_cyclone\tlimit=100000\tname=None\tref_year=2080\tspatial_coverage=global\tstatus=active\tversion=None\n"
     ]
    }
   ],
   "source": [
    "tc_knutsen_cc = client.get_hazard('tropical_cyclone', properties={'spatial_coverage':'global', 'climate_scenario':'rcp60', 'ref_year':'2080'},)\n"
   ]
  },
  {
   "cell_type": "code",
   "execution_count": 3,
   "id": "4befe71e",
   "metadata": {},
   "outputs": [
    {
     "name": "stdout",
     "output_type": "stream",
     "text": [
      "https://climada.ethz.ch/data-api/v1/dataset\tdata_type=litpop\texponents=(1,1)\tlimit=100000\tname=None\tspatial_coverage=global\tstatus=active\tversion=None\n"
     ]
    }
   ],
   "source": [
    "lp = client.get_litpop()"
   ]
  },
  {
   "cell_type": "code",
   "execution_count": 7,
   "id": "ba18aeb3",
   "metadata": {},
   "outputs": [],
   "source": [
    "from climada.entity import ImpactFuncSet, ImpactFunc, ImpfSetTropCyclone\n",
    "\n",
    "impf_set_assets = ImpfSetTropCyclone.from_calibrated_regional_ImpfSet()\n",
    "\n",
    "def get_impf_id(cnt):\n",
    "    for basin, iso_list in ImpfSetTropCyclone.get_countries_per_region()[2].items():\n",
    "        for iso in iso_list:\n",
    "            if iso == cnt:\n",
    "                return basin, ImpfSetTropCyclone.get_countries_per_region()[1][basin]\n",
    "\n",
    "lp.gdf['impf_TC'] = 1\n",
    "for cnt in np.unique(lp.gdf.region_id):\n",
    "    lp.gdf.loc[lp.gdf['region_id']==cnt, 'impf_TC'] = get_impf_id(int(cnt))[1]\n"
   ]
  },
  {
   "cell_type": "code",
   "execution_count": 18,
   "id": "6672885c",
   "metadata": {},
   "outputs": [
    {
     "name": "stdout",
     "output_type": "stream",
     "text": [
      "2022-10-28 11:44:13,692 - climada.util.coordinates - WARNING - Distance to closest centroid is greater than 100km for 2805637 coordinates.\n",
      "2022-10-28 11:44:14,101 - climada.util.coordinates - WARNING - Distance to closest centroid is greater than 100km for 6905 coordinates.\n"
     ]
    }
   ],
   "source": [
    "from climada.engine import ImpactCalc\n",
    "\n",
    "imp = ImpactCalc(lp, impf_set_assets, tc_knutsen).impact(save_mat=True)"
   ]
  },
  {
   "cell_type": "code",
   "execution_count": 23,
   "id": "0e3d2c6b",
   "metadata": {},
   "outputs": [
    {
     "name": "stdout",
     "output_type": "stream",
     "text": [
      "2022-10-28 11:46:51,349 - climada.util.coordinates - WARNING - Distance to closest centroid is greater than 100km for 2805637 coordinates.\n",
      "2022-10-28 11:46:51,878 - climada.util.coordinates - WARNING - Distance to closest centroid is greater than 100km for 6905 coordinates.\n"
     ]
    }
   ],
   "source": [
    "from climada.engine import ImpactCalc\n",
    "\n",
    "imp_knutsen_cc = ImpactCalc(lp, impf_set_assets, tc_knutsen_cc).impact(save_mat=True)"
   ]
  },
  {
   "cell_type": "code",
   "execution_count": 69,
   "id": "e45edf1d",
   "metadata": {},
   "outputs": [
    {
     "data": {
      "text/plain": [
       "2.8937101764582292e-33"
      ]
     },
     "execution_count": 69,
     "metadata": {},
     "output_type": "execute_result"
    }
   ],
   "source": [
    "np.min(imp_knutsen_cc.imp_mat.data)"
   ]
  },
  {
   "cell_type": "code",
   "execution_count": 6,
   "id": "f35c9a3b",
   "metadata": {},
   "outputs": [],
   "source": [
    "def min_exp_imp_1(imp, exp):\n",
    "    m1 = imp.imp_mat[imp.imp_mat.nonzero()]\n",
    "    m2 = np.matrix(exp.gdf.value[imp.imp_mat.nonzero()[1]])\n",
    "    imp.imp_mat[imp.imp_mat.nonzero()] = np.minimum(m1,m2)\n",
    "    return imp"
   ]
  },
  {
   "cell_type": "code",
   "execution_count": 7,
   "id": "d761d20b",
   "metadata": {},
   "outputs": [],
   "source": [
    "#crashes my memory\n",
    "def min_exp_imp_2(imp, exp):    \n",
    "    exp_mat = np.stack([exp.gdf.value.to_numpy() for n in np.unique(imp.event_id)])\n",
    "    def sparse_min(A, B):\n",
    "         \"\"\"\n",
    "         Return the element-wise maximum of sparse matrices `A` and `B`.\n",
    "         \"\"\"\n",
    "         AgtB = (A < B).astype(int)\n",
    "         M = np.multiply(AgtB, A - B) + B\n",
    "         return sp.sparse.csr_matrix(M)\n",
    "    sum_mat = sparse_min(imp.imp_mat, exp_mat)\n",
    "    return sum_mat"
   ]
  },
  {
   "cell_type": "code",
   "execution_count": 8,
   "id": "f94bc026",
   "metadata": {},
   "outputs": [],
   "source": [
    "imp2 = min_exp_imp_1(imp, lp)"
   ]
  },
  {
   "cell_type": "code",
   "execution_count": 39,
   "id": "0a4fcba3",
   "metadata": {
    "scrolled": true
   },
   "outputs": [
    {
     "name": "stderr",
     "output_type": "stream",
     "text": [
      "/Users/szelie/python_projects/climada_python/climada/engine/impact.py:912: DtypeWarning: Columns (0,1,2,7,14) have mixed types. Specify dtype option on import or set low_memory=False.\n",
      "  imp_df = pd.read_csv(file_name)\n",
      "/Users/szelie/python_projects/climada_python/climada/engine/impact.py:912: DtypeWarning: Columns (0,1,2,7,14) have mixed types. Specify dtype option on import or set low_memory=False.\n",
      "  imp_df = pd.read_csv(file_name)\n"
     ]
    }
   ],
   "source": [
    "from climada.engine import Impact\n",
    "tc_mit_yearsets = Impact.from_csv('/Users/szelie/OneDrive - ETH Zurich/data/impacts_multi_risk/level_warming/yearsets/TC_assets_impacts_yearsets_ordered_150arcsec_1_global.csv')\n",
    "tc_mit_yearsets_2 = Impact.from_csv('/Users/szelie/OneDrive - ETH Zurich/data/impacts_multi_risk/level_warming/yearsets/TC_assets_impacts_yearsets_ordered_150arcsec_2_global.csv')\n",
    "\n"
   ]
  },
  {
   "cell_type": "code",
   "execution_count": 67,
   "id": "e6783cd4",
   "metadata": {
    "collapsed": true
   },
   "outputs": [
    {
     "name": "stderr",
     "output_type": "stream",
     "text": [
      "/Users/szelie/python_projects/climada_python/climada/engine/impact.py:912: DtypeWarning: Columns (0,1,2,3,7,14) have mixed types. Specify dtype option on import or set low_memory=False.\n",
      "  imp_df = pd.read_csv(file_name)\n"
     ]
    },
    {
     "ename": "FileNotFoundError",
     "evalue": "[Errno 2] No such file or directory: '/Users/szelie/OneDrive - ETH Zurich/data/impacts_multi_risk/level_warming/impacts/TC_impact_assets_150arcsec_1_global.npz'",
     "output_type": "error",
     "traceback": [
      "\u001b[0;31m---------------------------------------------------------------------------\u001b[0m",
      "\u001b[0;31mFileNotFoundError\u001b[0m                         Traceback (most recent call last)",
      "Cell \u001b[0;32mIn [67], line 3\u001b[0m\n\u001b[1;32m      1\u001b[0m tc_mit \u001b[38;5;241m=\u001b[39m Impact\u001b[38;5;241m.\u001b[39mfrom_csv(\u001b[38;5;124m'\u001b[39m\u001b[38;5;124m/Users/szelie/OneDrive - ETH Zurich/data/impacts_multi_risk/level_warming/impacts/TC_impact_assets_150arcsec_1_global.csv\u001b[39m\u001b[38;5;124m'\u001b[39m)\n\u001b[0;32m----> 3\u001b[0m tc_mit \u001b[38;5;241m=\u001b[39m \u001b[43mtc_mit\u001b[49m\u001b[38;5;241;43m.\u001b[39;49m\u001b[43mread_sparse_csr\u001b[49m\u001b[43m(\u001b[49m\u001b[38;5;124;43m'\u001b[39;49m\u001b[38;5;124;43m/Users/szelie/OneDrive - ETH Zurich/data/impacts_multi_risk/level_warming/impacts/TC_impact_assets_150arcsec_1_global.npz\u001b[39;49m\u001b[38;5;124;43m'\u001b[39;49m\u001b[43m)\u001b[49m\n",
      "File \u001b[0;32m~/python_projects/climada_python/climada/engine/impact.py:892\u001b[0m, in \u001b[0;36mImpact.read_sparse_csr\u001b[0;34m(file_name)\u001b[0m\n\u001b[1;32m    881\u001b[0m \u001b[38;5;124;03m\"\"\"Read imp_mat matrix from numpy's npz format.\u001b[39;00m\n\u001b[1;32m    882\u001b[0m \n\u001b[1;32m    883\u001b[0m \u001b[38;5;124;03mParameters\u001b[39;00m\n\u001b[0;32m   (...)\u001b[0m\n\u001b[1;32m    889\u001b[0m \u001b[38;5;124;03msparse.csr_matrix\u001b[39;00m\n\u001b[1;32m    890\u001b[0m \u001b[38;5;124;03m\"\"\"\u001b[39;00m\n\u001b[1;32m    891\u001b[0m LOGGER\u001b[38;5;241m.\u001b[39minfo(\u001b[38;5;124m'\u001b[39m\u001b[38;5;124mReading \u001b[39m\u001b[38;5;132;01m%s\u001b[39;00m\u001b[38;5;124m'\u001b[39m, file_name)\n\u001b[0;32m--> 892\u001b[0m loader \u001b[38;5;241m=\u001b[39m \u001b[43mnp\u001b[49m\u001b[38;5;241;43m.\u001b[39;49m\u001b[43mload\u001b[49m\u001b[43m(\u001b[49m\u001b[43mfile_name\u001b[49m\u001b[43m)\u001b[49m\n\u001b[1;32m    893\u001b[0m \u001b[38;5;28;01mreturn\u001b[39;00m sparse\u001b[38;5;241m.\u001b[39mcsr_matrix(\n\u001b[1;32m    894\u001b[0m     (loader[\u001b[38;5;124m'\u001b[39m\u001b[38;5;124mdata\u001b[39m\u001b[38;5;124m'\u001b[39m], loader[\u001b[38;5;124m'\u001b[39m\u001b[38;5;124mindices\u001b[39m\u001b[38;5;124m'\u001b[39m], loader[\u001b[38;5;124m'\u001b[39m\u001b[38;5;124mindptr\u001b[39m\u001b[38;5;124m'\u001b[39m]), shape\u001b[38;5;241m=\u001b[39mloader[\u001b[38;5;124m'\u001b[39m\u001b[38;5;124mshape\u001b[39m\u001b[38;5;124m'\u001b[39m])\n",
      "File \u001b[0;32m~/miniconda3/envs/climada_env/lib/python3.8/site-packages/numpy/lib/npyio.py:390\u001b[0m, in \u001b[0;36mload\u001b[0;34m(file, mmap_mode, allow_pickle, fix_imports, encoding)\u001b[0m\n\u001b[1;32m    388\u001b[0m     own_fid \u001b[38;5;241m=\u001b[39m \u001b[38;5;28;01mFalse\u001b[39;00m\n\u001b[1;32m    389\u001b[0m \u001b[38;5;28;01melse\u001b[39;00m:\n\u001b[0;32m--> 390\u001b[0m     fid \u001b[38;5;241m=\u001b[39m stack\u001b[38;5;241m.\u001b[39menter_context(\u001b[38;5;28;43mopen\u001b[39;49m\u001b[43m(\u001b[49m\u001b[43mos_fspath\u001b[49m\u001b[43m(\u001b[49m\u001b[43mfile\u001b[49m\u001b[43m)\u001b[49m\u001b[43m,\u001b[49m\u001b[43m \u001b[49m\u001b[38;5;124;43m\"\u001b[39;49m\u001b[38;5;124;43mrb\u001b[39;49m\u001b[38;5;124;43m\"\u001b[39;49m\u001b[43m)\u001b[49m)\n\u001b[1;32m    391\u001b[0m     own_fid \u001b[38;5;241m=\u001b[39m \u001b[38;5;28;01mTrue\u001b[39;00m\n\u001b[1;32m    393\u001b[0m \u001b[38;5;66;03m# Code to distinguish from NumPy binary files and pickles.\u001b[39;00m\n",
      "\u001b[0;31mFileNotFoundError\u001b[0m: [Errno 2] No such file or directory: '/Users/szelie/OneDrive - ETH Zurich/data/impacts_multi_risk/level_warming/impacts/TC_impact_assets_150arcsec_1_global.npz'"
     ]
    }
   ],
   "source": [
    "tc_mit = Impact.from_csv('/Users/szelie/OneDrive - ETH Zurich/data/impacts_multi_risk/level_warming/impacts/TC_impact_assets_150arcsec_1_global.csv')\n"
   ]
  },
  {
   "cell_type": "code",
   "execution_count": 65,
   "id": "5792b792",
   "metadata": {},
   "outputs": [],
   "source": [
    "mask = np.abs(tc_mit.imp_mat.data) < 100\n",
    "tc_mit.imp_mat[mask] = 0"
   ]
  },
  {
   "cell_type": "code",
   "execution_count": 40,
   "id": "d1bd16fd",
   "metadata": {},
   "outputs": [
    {
     "data": {
      "text/plain": [
       "1.4060071354618335"
      ]
     },
     "execution_count": 40,
     "metadata": {},
     "output_type": "execute_result"
    }
   ],
   "source": [
    "tc_mit_yearsets.aai_agg/imp.aai_agg"
   ]
  },
  {
   "cell_type": "code",
   "execution_count": 41,
   "id": "5645d757",
   "metadata": {
    "scrolled": true
   },
   "outputs": [
    {
     "data": {
      "text/plain": [
       "0.696577095768474"
      ]
     },
     "execution_count": 41,
     "metadata": {},
     "output_type": "execute_result"
    }
   ],
   "source": [
    "imp.aai_agg/imp_knutsen_cc.aai_agg"
   ]
  },
  {
   "cell_type": "code",
   "execution_count": 42,
   "id": "5a1f21a7",
   "metadata": {},
   "outputs": [
    {
     "data": {
      "text/plain": [
       "0.8553950952953807"
      ]
     },
     "execution_count": 42,
     "metadata": {},
     "output_type": "execute_result"
    }
   ],
   "source": [
    "tc_mit_yearsets_2.aai_agg/tc_mit_yearsets.aai_agg"
   ]
  },
  {
   "cell_type": "code",
   "execution_count": 54,
   "id": "df785b32",
   "metadata": {},
   "outputs": [
    {
     "data": {
      "text/plain": [
       "<matplotlib.legend.Legend at 0x7fcf6baed880>"
      ]
     },
     "execution_count": 54,
     "metadata": {},
     "output_type": "execute_result"
    },
    {
     "data": {
      "image/png": "[encoded data removed]",
      "text/plain": [
       "<Figure size 640x480 with 1 Axes>"
      ]
     },
     "metadata": {},
     "output_type": "display_data"
    }
   ],
   "source": [
    "tc_mit_yearsets_2.unit='$'\n",
    "tc_mit_yearsets.unit='$'\n",
    "\n",
    "axis = tc_mit_yearsets.calc_freq_curve().plot(label='MIT')\n",
    "imp.calc_freq_curve().plot(axis=axis, label='Knutsen')\n",
    "\n",
    "\n",
    "tc_mit_yearsets_2.calc_freq_curve().plot(label='MIT cc', color='black', axis=axis)\n",
    "imp_knutsen_cc.calc_freq_curve().plot(axis=axis, label='Knutsen cc', color='grey')\n",
    "axis.legend()\n"
   ]
  },
  {
   "cell_type": "code",
   "execution_count": 55,
   "id": "b1192978",
   "metadata": {},
   "outputs": [
    {
     "data": {
      "text/plain": [
       "53691679643.0477"
      ]
     },
     "execution_count": 55,
     "metadata": {},
     "output_type": "execute_result"
    }
   ],
   "source": [
    "tc_mit_yearsets_2.aai_agg\n"
   ]
  },
  {
   "cell_type": "code",
   "execution_count": 56,
   "id": "1b666d2d",
   "metadata": {},
   "outputs": [
    {
     "data": {
      "text/plain": [
       "62768280924.626015"
      ]
     },
     "execution_count": 56,
     "metadata": {},
     "output_type": "execute_result"
    }
   ],
   "source": [
    "tc_mit_yearsets.aai_agg"
   ]
  },
  {
   "cell_type": "code",
   "execution_count": 57,
   "id": "847e4e7e",
   "metadata": {},
   "outputs": [
    {
     "data": {
      "text/plain": [
       "44642931989.11001"
      ]
     },
     "execution_count": 57,
     "metadata": {},
     "output_type": "execute_result"
    }
   ],
   "source": [
    "imp.aai_agg"
   ]
  },
  {
   "cell_type": "code",
   "execution_count": 58,
   "id": "904a94d0",
   "metadata": {},
   "outputs": [
    {
     "data": {
      "text/plain": [
       "64089003586.68737"
      ]
     },
     "execution_count": 58,
     "metadata": {},
     "output_type": "execute_result"
    }
   ],
   "source": [
    "imp_knutsen_cc.aai_agg"
   ]
  }
 ],
 "metadata": {
  "kernelspec": {
   "display_name": "Python 3 (ipykernel)",
   "language": "python",
   "name": "python3"
  },
  "language_info": {
   "codemirror_mode": {
    "name": "ipython",
    "version": 3
   },
   "file_extension": ".py",
   "mimetype": "text/x-python",
   "name": "python",
   "nbconvert_exporter": "python",
   "pygments_lexer": "ipython3",
   "version": "3.8.13"
  }
 },
 "nbformat": 4,
 "nbformat_minor": 5
}
